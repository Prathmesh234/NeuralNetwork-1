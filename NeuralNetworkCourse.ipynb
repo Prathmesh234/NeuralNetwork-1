{
  "nbformat": 4,
  "nbformat_minor": 0,
  "metadata": {
    "colab": {
      "provenance": [],
      "gpuType": "T4"
    },
    "kernelspec": {
      "name": "python3",
      "display_name": "Python 3"
    },
    "language_info": {
      "name": "python"
    },
    "accelerator": "GPU"
  },
  "cells": [
    {
      "cell_type": "code",
      "source": [
        "import torch\n",
        "import pandas as pd\n",
        "import numpy as np\n",
        "import matplotlib.pyplot as plt\n",
        "print(torch.__version__)"
      ],
      "metadata": {
        "colab": {
          "base_uri": "https://localhost:8080/"
        },
        "id": "g7fuBaM_cYVr",
        "outputId": "45656c02-9bef-48ee-e023-af0eb7e3929e"
      },
      "execution_count": null,
      "outputs": [
        {
          "output_type": "stream",
          "name": "stdout",
          "text": [
            "2.2.1+cu121\n"
          ]
        }
      ]
    },
    {
      "cell_type": "code",
      "source": [
        "!nvidia-smi"
      ],
      "metadata": {
        "colab": {
          "base_uri": "https://localhost:8080/"
        },
        "id": "QkBgvPGOnb4x",
        "outputId": "2e0b3cf6-d1c2-407c-8707-8c80f6bc7da5"
      },
      "execution_count": null,
      "outputs": [
        {
          "output_type": "stream",
          "name": "stdout",
          "text": [
            "Mon Apr  8 03:25:22 2024       \n",
            "+---------------------------------------------------------------------------------------+\n",
            "| NVIDIA-SMI 535.104.05             Driver Version: 535.104.05   CUDA Version: 12.2     |\n",
            "|-----------------------------------------+----------------------+----------------------+\n",
            "| GPU  Name                 Persistence-M | Bus-Id        Disp.A | Volatile Uncorr. ECC |\n",
            "| Fan  Temp   Perf          Pwr:Usage/Cap |         Memory-Usage | GPU-Util  Compute M. |\n",
            "|                                         |                      |               MIG M. |\n",
            "|=========================================+======================+======================|\n",
            "|   0  Tesla T4                       Off | 00000000:00:04.0 Off |                    0 |\n",
            "| N/A   46C    P8               9W /  70W |      0MiB / 15360MiB |      0%      Default |\n",
            "|                                         |                      |                  N/A |\n",
            "+-----------------------------------------+----------------------+----------------------+\n",
            "                                                                                         \n",
            "+---------------------------------------------------------------------------------------+\n",
            "| Processes:                                                                            |\n",
            "|  GPU   GI   CI        PID   Type   Process name                            GPU Memory |\n",
            "|        ID   ID                                                             Usage      |\n",
            "|=======================================================================================|\n",
            "|  No running processes found                                                           |\n",
            "+---------------------------------------------------------------------------------------+\n"
          ]
        }
      ]
    },
    {
      "cell_type": "code",
      "source": [
        "#tensors\n",
        "#tensors created using torch.tensor\n",
        "scalar = torch.tensor(7)\n",
        "scalar\n",
        "#scalar has no dimensions\n",
        "scalar.ndim\n",
        "scalar.item()"
      ],
      "metadata": {
        "colab": {
          "base_uri": "https://localhost:8080/"
        },
        "id": "mgYFjeRaougT",
        "outputId": "85f5bcd0-4e36-4234-c03f-4e6ce1b2cea8"
      },
      "execution_count": null,
      "outputs": [
        {
          "output_type": "execute_result",
          "data": {
            "text/plain": [
              "7"
            ]
          },
          "metadata": {},
          "execution_count": 37
        }
      ]
    },
    {
      "cell_type": "code",
      "source": [
        "vector = torch.tensor([7,7])\n",
        "vector.ndim\n",
        "vector.shape"
      ],
      "metadata": {
        "colab": {
          "base_uri": "https://localhost:8080/"
        },
        "id": "HwuyzZAeps20",
        "outputId": "9386968d-ca7e-4341-a0a8-7da8413ede9e"
      },
      "execution_count": null,
      "outputs": [
        {
          "output_type": "execute_result",
          "data": {
            "text/plain": [
              "torch.Size([2])"
            ]
          },
          "metadata": {},
          "execution_count": 38
        }
      ]
    },
    {
      "cell_type": "code",
      "source": [
        "Matrix = torch.tensor([[7,8],\n",
        "                      [9,10]])\n",
        "Matrix.shape"
      ],
      "metadata": {
        "colab": {
          "base_uri": "https://localhost:8080/"
        },
        "id": "myJ9nlowp80-",
        "outputId": "8be3fa09-c63a-4ead-d391-88c24f0ec1dd"
      },
      "execution_count": null,
      "outputs": [
        {
          "output_type": "execute_result",
          "data": {
            "text/plain": [
              "torch.Size([2, 2])"
            ]
          },
          "metadata": {},
          "execution_count": 39
        }
      ]
    },
    {
      "cell_type": "code",
      "source": [
        "Tensor = torch.tensor([[[2,3,4],\n",
        "                       [4,5,6],\n",
        "                       [5,7,7]]])\n",
        "Tensor.shape\n"
      ],
      "metadata": {
        "colab": {
          "base_uri": "https://localhost:8080/"
        },
        "id": "h9iT_nhtq3WH",
        "outputId": "587820f1-e14d-4fd2-a9a3-87387be6faf8"
      },
      "execution_count": null,
      "outputs": [
        {
          "output_type": "execute_result",
          "data": {
            "text/plain": [
              "torch.Size([1, 3, 3])"
            ]
          },
          "metadata": {},
          "execution_count": 40
        }
      ]
    },
    {
      "cell_type": "code",
      "source": [
        "\n",
        "#random tensors - they are important because the way many neural networks work is on random numbers and adjust the numbers to work on that data.\n",
        "random_tensor = torch.rand(3,4)\n",
        "random_tensor\n"
      ],
      "metadata": {
        "colab": {
          "base_uri": "https://localhost:8080/"
        },
        "id": "cEX6NJD3Ux3Q",
        "outputId": "8e3dda84-53b0-4303-e47a-a8eca7f29c66"
      },
      "execution_count": null,
      "outputs": [
        {
          "output_type": "execute_result",
          "data": {
            "text/plain": [
              "tensor([[0.8462, 0.5700, 0.1773, 0.2957],\n",
              "        [0.8107, 0.7124, 0.9106, 0.1418],\n",
              "        [0.7637, 0.0732, 0.3579, 0.5812]])"
            ]
          },
          "metadata": {},
          "execution_count": 41
        }
      ]
    },
    {
      "cell_type": "code",
      "source": [
        "random_tensor.ndim"
      ],
      "metadata": {
        "colab": {
          "base_uri": "https://localhost:8080/"
        },
        "id": "ginPIph-VZhT",
        "outputId": "5fe8591e-4f5d-4d89-9303-c91b061dc117"
      },
      "execution_count": null,
      "outputs": [
        {
          "output_type": "execute_result",
          "data": {
            "text/plain": [
              "2"
            ]
          },
          "metadata": {},
          "execution_count": 42
        }
      ]
    },
    {
      "cell_type": "code",
      "source": [
        "#creating a random tensor with the similiar shape to an image tensor\n",
        "#the size= does not really matter\n",
        "random_image_size_tensor = torch.rand(size=(224,224,3)) #height width and color channels\n",
        "random_image_size_tensor.shape, random_image_size_tensor.ndim"
      ],
      "metadata": {
        "colab": {
          "base_uri": "https://localhost:8080/"
        },
        "id": "lFlrVuW-VtVm",
        "outputId": "b45f1eb1-aadf-42c1-be97-bee98c22b665"
      },
      "execution_count": null,
      "outputs": [
        {
          "output_type": "execute_result",
          "data": {
            "text/plain": [
              "(torch.Size([224, 224, 3]), 3)"
            ]
          },
          "metadata": {},
          "execution_count": 43
        }
      ]
    },
    {
      "cell_type": "code",
      "source": [
        "#tensor with all zeroes and ones\n",
        "zero = torch.zeros(3,4)\n",
        "#tensor with all ones\n",
        "ones = torch.ones(3,4)\n",
        "\n",
        "ones.dtype\n",
        "random_tensor.dtype"
      ],
      "metadata": {
        "colab": {
          "base_uri": "https://localhost:8080/"
        },
        "id": "5f-f-hzkWaxx",
        "outputId": "123268ce-c4d5-4c56-99c0-2150fb5d75a0"
      },
      "execution_count": null,
      "outputs": [
        {
          "output_type": "execute_result",
          "data": {
            "text/plain": [
              "torch.float32"
            ]
          },
          "metadata": {},
          "execution_count": 44
        }
      ]
    },
    {
      "cell_type": "code",
      "source": [
        "#creating a range of tensors and tensors like\n",
        "#using torch.range()\n",
        "one_to_10 = torch.arange(start=1,end=10, step=1)\n",
        "one_to_10\n",
        "#tensor like\n",
        "ten_zeros = torch.zeros_like(one_to_10)\n"
      ],
      "metadata": {
        "id": "tVff1pA0W_iv"
      },
      "execution_count": null,
      "outputs": []
    },
    {
      "cell_type": "code",
      "source": [
        "#tensor data types\n",
        "#data type is float 32 tensor as it is default, this is just for the sake of precision\n",
        "#if you want pytorch to track gradients then requires_grad is useful\n",
        "float_32_tensor = torch.tensor([3.0,6.0,9.9], dtype=None, device=None, requires_grad=False)\n",
        "float_32_tensor.dtype"
      ],
      "metadata": {
        "colab": {
          "base_uri": "https://localhost:8080/"
        },
        "id": "YpVsfaw-YPoU",
        "outputId": "b1eda274-4c79-4607-dbf2-c28655ddb141"
      },
      "execution_count": null,
      "outputs": [
        {
          "output_type": "execute_result",
          "data": {
            "text/plain": [
              "torch.float32"
            ]
          },
          "metadata": {},
          "execution_count": 46
        }
      ]
    },
    {
      "cell_type": "code",
      "source": [
        "#tensor data types\n",
        "#data type is float 32 tensor as it is default, this is just for the sake of precision\n",
        "#if you want pytorch to track gradients then requires_grad is useful\n",
        "float_16_tensor = torch.tensor([3.0,6.0,9.9], dtype=None, device=None, requires_grad=False)\n"
      ],
      "metadata": {
        "id": "S0tD2U6eZMzZ"
      },
      "execution_count": null,
      "outputs": []
    },
    {
      "cell_type": "code",
      "source": [
        "int_32_tensor = torch.tensor([3.0,6.0,9.9], dtype=torch.int32, device=None, requires_grad=False)\n",
        "int_32_tensor\n",
        "\n"
      ],
      "metadata": {
        "colab": {
          "base_uri": "https://localhost:8080/"
        },
        "id": "FNi-hSpha205",
        "outputId": "a2593cfd-84dd-4d0f-82e2-3b0afb094687"
      },
      "execution_count": null,
      "outputs": [
        {
          "output_type": "execute_result",
          "data": {
            "text/plain": [
              "tensor([3, 6, 9], dtype=torch.int32)"
            ]
          },
          "metadata": {},
          "execution_count": 48
        }
      ]
    },
    {
      "cell_type": "code",
      "source": [
        "some_tensor = torch.rand(3,4)\n",
        "some_tensor\n",
        "print(f\"Data type : {some_tensor.dtype}\")\n",
        "print(f\"Data type : {some_tensor.shape}\")\n",
        "print(f\"Data type : {some_tensor.device}\")\n",
        "\n",
        "\n"
      ],
      "metadata": {
        "colab": {
          "base_uri": "https://localhost:8080/"
        },
        "id": "mhG-69nEcRje",
        "outputId": "df84cb7b-b3b2-42bf-e899-85ae4d573857"
      },
      "execution_count": null,
      "outputs": [
        {
          "output_type": "stream",
          "name": "stdout",
          "text": [
            "Data type : torch.float32\n",
            "Data type : torch.Size([3, 4])\n",
            "Data type : cpu\n"
          ]
        }
      ]
    },
    {
      "cell_type": "code",
      "source": [
        "#TENSOR OPERATIONS - ADDITION, SUBTRACTION, MULTIPLICATION, DIVISION, MATRIX MULTIPLICATION\n",
        "#CREATE A TENSOR\n",
        "\n",
        "tensor = torch.tensor([1,2,3])\n",
        "tensor + 0"
      ],
      "metadata": {
        "colab": {
          "base_uri": "https://localhost:8080/"
        },
        "id": "3mhy2LfWcRs3",
        "outputId": "87372ee9-ff90-42e0-f7ca-ae0eac138f51"
      },
      "execution_count": null,
      "outputs": [
        {
          "output_type": "execute_result",
          "data": {
            "text/plain": [
              "tensor([1, 2, 3])"
            ]
          },
          "metadata": {},
          "execution_count": 50
        }
      ]
    },
    {
      "cell_type": "code",
      "source": [
        "#Multiplying it by 10\n",
        "tensor*10"
      ],
      "metadata": {
        "colab": {
          "base_uri": "https://localhost:8080/"
        },
        "id": "9QHxlxkEiCnO",
        "outputId": "0ba76f84-8470-49ef-bc97-90d43f7dd150"
      },
      "execution_count": null,
      "outputs": [
        {
          "output_type": "execute_result",
          "data": {
            "text/plain": [
              "tensor([10, 20, 30])"
            ]
          },
          "metadata": {},
          "execution_count": 51
        }
      ]
    },
    {
      "cell_type": "code",
      "source": [
        "tensor - 10\n",
        "#pytorch in built functins\n",
        "torch.mul(tensor, 10)\n",
        "torch.add(tensor, 10)"
      ],
      "metadata": {
        "colab": {
          "base_uri": "https://localhost:8080/"
        },
        "id": "oaW-JMVdiFWV",
        "outputId": "dce78d0c-31dd-4900-f2c7-00074e54ca6c"
      },
      "execution_count": null,
      "outputs": [
        {
          "output_type": "execute_result",
          "data": {
            "text/plain": [
              "tensor([11, 12, 13])"
            ]
          },
          "metadata": {},
          "execution_count": 52
        }
      ]
    },
    {
      "cell_type": "code",
      "source": [
        "#two types of multiplication, matrix multiplication and element wise multiplication\n",
        "#matrix multiplication would be a dot product\n",
        "\n",
        "print(tensor, \"*\", tensor)\n",
        "print(f\"Equals : {tensor * tensor}\")\n",
        "#1x3 3x1 = 1x1\n",
        "print(f\"Matrix multiplication : {torch.matmul(tensor, tensor)}\")\n",
        "print(f\"Matrix multiplication : {tensor @ tensor}\")\n",
        "\n"
      ],
      "metadata": {
        "colab": {
          "base_uri": "https://localhost:8080/"
        },
        "id": "TzXCqJMLiqAr",
        "outputId": "0f8f8c65-14d0-4cfe-9582-5c9777f77d69"
      },
      "execution_count": null,
      "outputs": [
        {
          "output_type": "stream",
          "name": "stdout",
          "text": [
            "tensor([1, 2, 3]) * tensor([1, 2, 3])\n",
            "Equals : tensor([1, 4, 9])\n",
            "Matrix multiplication : 14\n",
            "Matrix multiplication : 14\n"
          ]
        }
      ]
    },
    {
      "cell_type": "code",
      "source": [
        "#both of them have to be compatible.\n",
        "tensor1 = torch.rand(2,3)\n",
        "tensor2 = torch.rand(3,2)\n",
        "tensor1 @ tensor2"
      ],
      "metadata": {
        "colab": {
          "base_uri": "https://localhost:8080/"
        },
        "id": "yvIq5_jZiuEg",
        "outputId": "6d0a170f-5c14-4f44-b202-578905a339bf"
      },
      "execution_count": null,
      "outputs": [
        {
          "output_type": "execute_result",
          "data": {
            "text/plain": [
              "tensor([[0.7943, 1.4220],\n",
              "        [0.6852, 1.3556]])"
            ]
          },
          "metadata": {},
          "execution_count": 54
        }
      ]
    },
    {
      "cell_type": "code",
      "source": [
        "tensor_A = torch.tensor([[1,2],\n",
        "                         [3,4],\n",
        "                         [5,6]])\n",
        "\n",
        "tensor_B = torch.tensor([[7,8],\n",
        "                         [9,10],\n",
        "                         [11,12]])\n",
        "tensor_A.shape, tensor_B.shape\n"
      ],
      "metadata": {
        "colab": {
          "base_uri": "https://localhost:8080/"
        },
        "id": "fJ_alcCMLC8y",
        "outputId": "7b0bc96a-932a-447c-fb6c-45e3d24272be"
      },
      "execution_count": null,
      "outputs": [
        {
          "output_type": "execute_result",
          "data": {
            "text/plain": [
              "(torch.Size([3, 2]), torch.Size([3, 2]))"
            ]
          },
          "metadata": {},
          "execution_count": 55
        }
      ]
    },
    {
      "cell_type": "code",
      "source": [
        "#we can manipulate the shape of one of our tensors using transpose.\n",
        "#.T gives us the transpose of the given matrix\n",
        "tensor_B.T @ tensor_A"
      ],
      "metadata": {
        "colab": {
          "base_uri": "https://localhost:8080/"
        },
        "id": "Ufb3a735MJaD",
        "outputId": "4118ab11-9df6-4524-fb07-03a61cb6d212"
      },
      "execution_count": null,
      "outputs": [
        {
          "output_type": "execute_result",
          "data": {
            "text/plain": [
              "tensor([[ 89, 116],\n",
              "        [ 98, 128]])"
            ]
          },
          "metadata": {},
          "execution_count": 56
        }
      ]
    },
    {
      "cell_type": "code",
      "source": [
        "#Tensor aggregation - Finding the min, max, mean and the sum etc\n",
        "x = torch.arange(0,100,10)\n",
        "x\n",
        "x.dtype\n",
        "torch.min(x), x.min()\n",
        "\n",
        "#finding the mean\n",
        "#torch.mean function requires a tensor of float32\n",
        "torch.mean(x.type(torch.float32))\n",
        "\n",
        "x.type(torch.float32).mean()"
      ],
      "metadata": {
        "colab": {
          "base_uri": "https://localhost:8080/"
        },
        "id": "7IRek0-qM9Vd",
        "outputId": "d9c2fe2f-44e5-4480-b8cc-8d79307033bf"
      },
      "execution_count": null,
      "outputs": [
        {
          "output_type": "execute_result",
          "data": {
            "text/plain": [
              "tensor(45.)"
            ]
          },
          "metadata": {},
          "execution_count": 57
        }
      ]
    },
    {
      "cell_type": "code",
      "source": [
        "#finding the sum\n",
        "x.type(torch.float32).sum()\n",
        "\n",
        "#finding the positional mix and min\n",
        "\n",
        "#at tensor x index we get the minimum or the least value and then returns the index position of the target tensor\n",
        "x.argmin()\n",
        "#the max function gives us the position\n",
        "x.argmax()\n",
        "#getting the max value in the tensor\n",
        "x[x.argmax()]"
      ],
      "metadata": {
        "colab": {
          "base_uri": "https://localhost:8080/"
        },
        "id": "o-IrhLH2PSYB",
        "outputId": "1b4a9748-2011-4974-d38e-c7281e334553"
      },
      "execution_count": null,
      "outputs": [
        {
          "output_type": "execute_result",
          "data": {
            "text/plain": [
              "tensor(90)"
            ]
          },
          "metadata": {},
          "execution_count": 58
        }
      ]
    },
    {
      "cell_type": "code",
      "source": [
        "#reshaping, stacking, squeezing and unsqueezing\n",
        "#reshaping - reshapes the input tensor to a defined shape\n",
        "#view  - returns a view of an input tensor of certain shape\n",
        "#stacking - combines multiple tensors on top of each other (vtack or side by side hstack)\n",
        "#squeeze -  removes all '1 dimensions from a tensor\n",
        "#unsqueeze - adds a '1' dimension to a target tensor\n",
        "#permute - return a view of the input with dimensions permuted\n",
        "\n",
        "#creating a tensor\n",
        "\n",
        "import torch\n",
        "x = torch.arange(1.,10.)\n",
        "x, x.shape\n",
        "\n",
        "#add an extra dimension\n",
        "x_reshaped = x.reshape(1,9)\n",
        "x_reshaped, x_reshaped.shape\n"
      ],
      "metadata": {
        "colab": {
          "base_uri": "https://localhost:8080/"
        },
        "id": "Q7PM6DXwQJor",
        "outputId": "4afc733c-627c-4d34-d7a0-05cdfd9e2191"
      },
      "execution_count": null,
      "outputs": [
        {
          "output_type": "execute_result",
          "data": {
            "text/plain": [
              "(tensor([[1., 2., 3., 4., 5., 6., 7., 8., 9.]]), torch.Size([1, 9]))"
            ]
          },
          "metadata": {},
          "execution_count": 59
        }
      ]
    },
    {
      "cell_type": "code",
      "source": [
        "#change the view\n",
        "z = x.view(1,9)\n",
        "z, z.shape\n",
        "x"
      ],
      "metadata": {
        "colab": {
          "base_uri": "https://localhost:8080/"
        },
        "id": "Em8fgIINR9Uf",
        "outputId": "4adc2b85-9d87-4c0c-fa90-0f64898aa4e0"
      },
      "execution_count": null,
      "outputs": [
        {
          "output_type": "execute_result",
          "data": {
            "text/plain": [
              "tensor([1., 2., 3., 4., 5., 6., 7., 8., 9.])"
            ]
          },
          "metadata": {},
          "execution_count": 60
        }
      ]
    },
    {
      "cell_type": "code",
      "source": [
        "#chagnging z will change x\n",
        "z[:, 0] = 5\n",
        "x"
      ],
      "metadata": {
        "colab": {
          "base_uri": "https://localhost:8080/"
        },
        "id": "CT4sSKnHT8ZZ",
        "outputId": "3e47fddd-f9df-4e49-aad3-e095712ee061"
      },
      "execution_count": null,
      "outputs": [
        {
          "output_type": "execute_result",
          "data": {
            "text/plain": [
              "tensor([5., 2., 3., 4., 5., 6., 7., 8., 9.])"
            ]
          },
          "metadata": {},
          "execution_count": 61
        }
      ]
    },
    {
      "cell_type": "code",
      "source": [
        "#stacking tensors on top of each other\n",
        "x_stacked = torch.stack([x,x,x,x], dim=0)\n",
        "x_stacked"
      ],
      "metadata": {
        "colab": {
          "base_uri": "https://localhost:8080/"
        },
        "id": "DPcA-EE9UG8_",
        "outputId": "a9191f99-cdd4-44f0-a5a9-b29c8a17d5dc"
      },
      "execution_count": null,
      "outputs": [
        {
          "output_type": "execute_result",
          "data": {
            "text/plain": [
              "tensor([[5., 2., 3., 4., 5., 6., 7., 8., 9.],\n",
              "        [5., 2., 3., 4., 5., 6., 7., 8., 9.],\n",
              "        [5., 2., 3., 4., 5., 6., 7., 8., 9.],\n",
              "        [5., 2., 3., 4., 5., 6., 7., 8., 9.]])"
            ]
          },
          "metadata": {},
          "execution_count": 62
        }
      ]
    },
    {
      "cell_type": "code",
      "source": [
        "#squeezing and unsqueezing the tensors\n",
        "#squeeze removes all the single dimensions from a target tensor\n",
        "\n",
        "x_reshaped, x_reshaped.shape\n",
        "x_reshaped.squeeze().shape\n",
        "\n",
        "#torch unsqueezed adds a single dimension to a target tensor at a specific dim\n",
        "print(f\"Squeezed version: {x_reshaped.squeeze()}\")\n",
        "print(f\"UnSqueezed version: {x_reshaped.unsqueeze(dim=1)} with shape: {x_reshaped.unsqueeze(dim=1).shape}\")"
      ],
      "metadata": {
        "colab": {
          "base_uri": "https://localhost:8080/"
        },
        "id": "iRDcQPEEUj8n",
        "outputId": "7ce87d1a-4208-46e8-8fcc-cdd3b57fc11f"
      },
      "execution_count": null,
      "outputs": [
        {
          "output_type": "stream",
          "name": "stdout",
          "text": [
            "Squeezed version: tensor([5., 2., 3., 4., 5., 6., 7., 8., 9.])\n",
            "UnSqueezed version: tensor([[[5., 2., 3., 4., 5., 6., 7., 8., 9.]]]) with shape: torch.Size([1, 1, 9])\n"
          ]
        }
      ]
    },
    {
      "cell_type": "code",
      "source": [
        "#torch.permute rearranges the dimensions of a target tensor in a specified order\n",
        "\n",
        "x_original = torch.rand(size=(224,224,3)) #end has the color channels\n",
        "#Permute the original tensor to rearrange the axis or dimension\n",
        "x_permute = x_original.permute(2,0,1)\n",
        "print(f\"Previous shape: {x_original.shape}\")\n",
        "print(f\"Previous shape: {x_permute.shape}\")"
      ],
      "metadata": {
        "colab": {
          "base_uri": "https://localhost:8080/"
        },
        "id": "I5OmF-jBVR7S",
        "outputId": "61449ef3-9f37-49a3-d5be-c4ca508c625a"
      },
      "execution_count": null,
      "outputs": [
        {
          "output_type": "stream",
          "name": "stdout",
          "text": [
            "Previous shape: torch.Size([224, 224, 3])\n",
            "Previous shape: torch.Size([3, 224, 224])\n"
          ]
        }
      ]
    },
    {
      "cell_type": "code",
      "source": [
        "##indexing  - selecting data from tensors using indexing\n",
        "#similar to numpy\n",
        "#creating a tensor\n",
        "\n",
        "import torch\n",
        "x = torch.arange(1,10).reshape(1,3,3)\n",
        "x, x.shape"
      ],
      "metadata": {
        "colab": {
          "base_uri": "https://localhost:8080/"
        },
        "id": "7u7lVkQADtH9",
        "outputId": "e7e8218e-e7ed-48b7-8306-d8f740ddb3e9"
      },
      "execution_count": null,
      "outputs": [
        {
          "output_type": "execute_result",
          "data": {
            "text/plain": [
              "(tensor([[[1, 2, 3],\n",
              "          [4, 5, 6],\n",
              "          [7, 8, 9]]]),\n",
              " torch.Size([1, 3, 3]))"
            ]
          },
          "metadata": {},
          "execution_count": 65
        }
      ]
    },
    {
      "cell_type": "code",
      "source": [
        "#Accessing the 1 in the tensor above\n",
        "x[0][0][0]"
      ],
      "metadata": {
        "colab": {
          "base_uri": "https://localhost:8080/"
        },
        "id": "DaydKFGIExYV",
        "outputId": "6c4baf4b-f50b-4356-8fc2-8b0592866726"
      },
      "execution_count": null,
      "outputs": [
        {
          "output_type": "execute_result",
          "data": {
            "text/plain": [
              "tensor(1)"
            ]
          },
          "metadata": {},
          "execution_count": 66
        }
      ]
    },
    {
      "cell_type": "code",
      "source": [
        "#returns the second value in the main matrix\n",
        "x[0][1]"
      ],
      "metadata": {
        "colab": {
          "base_uri": "https://localhost:8080/"
        },
        "id": "WEXKYXAFFBl6",
        "outputId": "a4fb315a-8fd8-4016-a187-2b8acbca4989"
      },
      "execution_count": null,
      "outputs": [
        {
          "output_type": "execute_result",
          "data": {
            "text/plain": [
              "tensor([4, 5, 6])"
            ]
          },
          "metadata": {},
          "execution_count": 67
        }
      ]
    },
    {
      "cell_type": "code",
      "source": [
        "#x[1] does not work because it only has one dimension in the torch.size[1,3,3] above\n",
        "x[1][0][0]"
      ],
      "metadata": {
        "colab": {
          "base_uri": "https://localhost:8080/",
          "height": 180
        },
        "id": "m-6WbvdoFK7x",
        "outputId": "330a7d7a-f499-4ce9-fd61-89a986b60780"
      },
      "execution_count": null,
      "outputs": [
        {
          "output_type": "error",
          "ename": "IndexError",
          "evalue": "index 1 is out of bounds for dimension 0 with size 1",
          "traceback": [
            "\u001b[0;31m---------------------------------------------------------------------------\u001b[0m",
            "\u001b[0;31mIndexError\u001b[0m                                Traceback (most recent call last)",
            "\u001b[0;32m<ipython-input-68-e8295a66520a>\u001b[0m in \u001b[0;36m<cell line: 2>\u001b[0;34m()\u001b[0m\n\u001b[1;32m      1\u001b[0m \u001b[0;31m#x[1] does not work because it only has one dimension in the torch.size[1,3,3] above\u001b[0m\u001b[0;34m\u001b[0m\u001b[0;34m\u001b[0m\u001b[0m\n\u001b[0;32m----> 2\u001b[0;31m \u001b[0mx\u001b[0m\u001b[0;34m[\u001b[0m\u001b[0;36m1\u001b[0m\u001b[0;34m]\u001b[0m\u001b[0;34m[\u001b[0m\u001b[0;36m0\u001b[0m\u001b[0;34m]\u001b[0m\u001b[0;34m[\u001b[0m\u001b[0;36m0\u001b[0m\u001b[0;34m]\u001b[0m\u001b[0;34m\u001b[0m\u001b[0;34m\u001b[0m\u001b[0m\n\u001b[0m",
            "\u001b[0;31mIndexError\u001b[0m: index 1 is out of bounds for dimension 0 with size 1"
          ]
        }
      ]
    },
    {
      "cell_type": "code",
      "source": [
        "x[:, 0]"
      ],
      "metadata": {
        "id": "zJmIaJj3FX4L",
        "colab": {
          "base_uri": "https://localhost:8080/"
        },
        "outputId": "2fc27aee-c427-417a-d6d8-a7258a153c51"
      },
      "execution_count": null,
      "outputs": [
        {
          "output_type": "execute_result",
          "data": {
            "text/plain": [
              "tensor([[1, 2, 3]])"
            ]
          },
          "metadata": {},
          "execution_count": 69
        }
      ]
    },
    {
      "cell_type": "code",
      "source": [
        "#get all the values of 0th and the 1st dimension but only index one of the second dimension\n",
        "x[:,:,1]"
      ],
      "metadata": {
        "id": "BrNCRncdFcX9",
        "colab": {
          "base_uri": "https://localhost:8080/"
        },
        "outputId": "d4e50480-d1d6-4eee-96f2-c95783fe43f6"
      },
      "execution_count": null,
      "outputs": [
        {
          "output_type": "execute_result",
          "data": {
            "text/plain": [
              "tensor([[2, 5, 8]])"
            ]
          },
          "metadata": {},
          "execution_count": 70
        }
      ]
    },
    {
      "cell_type": "code",
      "source": [
        "x[0, :, :]\n",
        "x[0,0,:]\n",
        "# the colon or : basically means all the above, all the values of the remaining tensor\n"
      ],
      "metadata": {
        "id": "R9zukxG5Fnn-",
        "colab": {
          "base_uri": "https://localhost:8080/"
        },
        "outputId": "39cfe6d7-eda5-4164-bc4e-2eec11ed4ad0"
      },
      "execution_count": null,
      "outputs": [
        {
          "output_type": "execute_result",
          "data": {
            "text/plain": [
              "tensor([1, 2, 3])"
            ]
          },
          "metadata": {},
          "execution_count": 71
        }
      ]
    },
    {
      "cell_type": "code",
      "source": [
        "#Pytorch tensors and numpy\n",
        "#torch.from_numpy converts numpy to pytorch tensor\n",
        "#torch.Tensor.numpy() from tensor to numpy\n",
        "\n",
        "import numpy as np\n",
        "\n",
        "array = np.arange(1.0,8.0)\n",
        "#numpy is in float64 while tensor is in float32\n",
        "tensor = torch.from_numpy(array)\n",
        "array, tensor\n"
      ],
      "metadata": {
        "id": "HZw-PLXQGMMA",
        "colab": {
          "base_uri": "https://localhost:8080/"
        },
        "outputId": "121659a5-b3ea-45fe-b959-2af325cdfc26"
      },
      "execution_count": null,
      "outputs": [
        {
          "output_type": "execute_result",
          "data": {
            "text/plain": [
              "(array([1., 2., 3., 4., 5., 6., 7.]),\n",
              " tensor([1., 2., 3., 4., 5., 6., 7.], dtype=torch.float64))"
            ]
          },
          "metadata": {},
          "execution_count": 72
        }
      ]
    },
    {
      "cell_type": "code",
      "source": [
        "#changing the value of the array does not change the value of the tensor\n",
        "array = array + 1\n",
        "array, tensor"
      ],
      "metadata": {
        "id": "g_-PigfWHzOn",
        "colab": {
          "base_uri": "https://localhost:8080/"
        },
        "outputId": "dff54ca2-3a41-4349-bd1c-da19aac2f63a"
      },
      "execution_count": null,
      "outputs": [
        {
          "output_type": "execute_result",
          "data": {
            "text/plain": [
              "(array([2., 3., 4., 5., 6., 7., 8.]),\n",
              " tensor([1., 2., 3., 4., 5., 6., 7.], dtype=torch.float64))"
            ]
          },
          "metadata": {},
          "execution_count": 73
        }
      ]
    },
    {
      "cell_type": "code",
      "source": [
        "#Tensor to Numpy array\n",
        "tensor = torch.ones(7)\n",
        "numpy_tensor = tensor.numpy()\n",
        "numpy_tensor, tensor"
      ],
      "metadata": {
        "id": "BmkMH_npIFnc",
        "colab": {
          "base_uri": "https://localhost:8080/"
        },
        "outputId": "eebacb1a-3383-4a0c-93f4-f82a5ddb7672"
      },
      "execution_count": null,
      "outputs": [
        {
          "output_type": "execute_result",
          "data": {
            "text/plain": [
              "(array([1., 1., 1., 1., 1., 1., 1.], dtype=float32),\n",
              " tensor([1., 1., 1., 1., 1., 1., 1.]))"
            ]
          },
          "metadata": {},
          "execution_count": 74
        }
      ]
    },
    {
      "cell_type": "code",
      "source": [
        "#same thing as above, they do not share the same memory location\n",
        "tensor = tensor + 1\n",
        "tensor, numpy_tensor"
      ],
      "metadata": {
        "id": "hPYso7jGIUyO",
        "colab": {
          "base_uri": "https://localhost:8080/"
        },
        "outputId": "a3074b26-acd6-42d7-c7ec-7e6213893e1b"
      },
      "execution_count": null,
      "outputs": [
        {
          "output_type": "execute_result",
          "data": {
            "text/plain": [
              "(tensor([2., 2., 2., 2., 2., 2., 2.]),\n",
              " array([1., 1., 1., 1., 1., 1., 1.], dtype=float32))"
            ]
          },
          "metadata": {},
          "execution_count": 75
        }
      ]
    },
    {
      "cell_type": "code",
      "source": [
        "#Pytorch reproducibility  - trying to take the random out of the random\n",
        "#how a neural network learns - 1) random numbers, 2) tensor operations, 3) update the random numbers and make them better representatio of the data 4) keep doing it again and again"
      ],
      "metadata": {
        "id": "FGe6SItzIdQ2"
      },
      "execution_count": null,
      "outputs": []
    },
    {
      "cell_type": "code",
      "source": [
        "torch.rand(3,3)"
      ],
      "metadata": {
        "id": "1nv08nbXI3Iy",
        "colab": {
          "base_uri": "https://localhost:8080/"
        },
        "outputId": "b4815501-f073-4650-ef00-f89c98d51640"
      },
      "execution_count": null,
      "outputs": [
        {
          "output_type": "execute_result",
          "data": {
            "text/plain": [
              "tensor([[0.9656, 0.2152, 0.8505],\n",
              "        [0.2067, 0.9311, 0.5118],\n",
              "        [0.6368, 0.4223, 0.0476]])"
            ]
          },
          "metadata": {},
          "execution_count": 77
        }
      ]
    },
    {
      "cell_type": "code",
      "source": [
        "#to reduce the randomness in neural networks and pytorch comes in the concept of random seed\n",
        "#random seed flavours the randomness\n",
        "\n",
        "#creating two tensors\n",
        "\n",
        "random_tensorA = torch.rand(3,4)\n",
        "random_tensorB = torch.rand(3,4)\n",
        "print(random_tensorA)\n",
        "print(random_tensorB)\n",
        "print(random_tensorA == random_tensorB)"
      ],
      "metadata": {
        "id": "lSzoWl4uI61M",
        "colab": {
          "base_uri": "https://localhost:8080/"
        },
        "outputId": "ab6718d5-9bed-4fd0-cab7-2bb1fc849dd2"
      },
      "execution_count": null,
      "outputs": [
        {
          "output_type": "stream",
          "name": "stdout",
          "text": [
            "tensor([[0.1416, 0.4059, 0.2420, 0.7730],\n",
            "        [0.0177, 0.3665, 0.7969, 0.3285],\n",
            "        [0.0360, 0.3245, 0.4508, 0.3187]])\n",
            "tensor([[0.7128, 0.4371, 0.5833, 0.2440],\n",
            "        [0.8041, 0.6183, 0.4944, 0.6102],\n",
            "        [0.4431, 0.4460, 0.0765, 0.6705]])\n",
            "tensor([[False, False, False, False],\n",
            "        [False, False, False, False],\n",
            "        [False, False, False, False]])\n"
          ]
        }
      ]
    },
    {
      "cell_type": "code",
      "source": [
        "#Random seed\n",
        "\n",
        "#setting the random seed\n",
        "RANDOM_SEED = 42\n",
        "torch.manual_seed(RANDOM_SEED)\n",
        "\n",
        "random_tensor_C = torch.rand(3,4)\n",
        "torch.manual_seed(RANDOM_SEED)\n",
        "\n",
        "random_tensor_D = torch.rand(3,4)\n",
        "print(random_tensor_C)\n",
        "print(random_tensor_D)\n",
        "print(random_tensor_C == random_tensor_D)"
      ],
      "metadata": {
        "id": "D8AR6spEJbdU",
        "colab": {
          "base_uri": "https://localhost:8080/"
        },
        "outputId": "65dd9cef-349d-437e-e3f1-df8b38e435f1"
      },
      "execution_count": null,
      "outputs": [
        {
          "output_type": "stream",
          "name": "stdout",
          "text": [
            "tensor([[0.8823, 0.9150, 0.3829, 0.9593],\n",
            "        [0.3904, 0.6009, 0.2566, 0.7936],\n",
            "        [0.9408, 0.1332, 0.9346, 0.5936]])\n",
            "tensor([[0.8823, 0.9150, 0.3829, 0.9593],\n",
            "        [0.3904, 0.6009, 0.2566, 0.7936],\n",
            "        [0.9408, 0.1332, 0.9346, 0.5936]])\n",
            "tensor([[True, True, True, True],\n",
            "        [True, True, True, True],\n",
            "        [True, True, True, True]])\n"
          ]
        }
      ]
    },
    {
      "cell_type": "code",
      "source": [
        "#running tensors and pytorch objects on GPU'S for faster computation on numbers\n",
        "!nvidia-smi\n",
        "#checking if pytorch is accessing the gpu\n",
        "torch.cuda.is_available()"
      ],
      "metadata": {
        "id": "AB0NmbyYKFMs",
        "colab": {
          "base_uri": "https://localhost:8080/"
        },
        "outputId": "2e63500e-38e7-415d-81be-4cc7bb4df7ca"
      },
      "execution_count": null,
      "outputs": [
        {
          "output_type": "stream",
          "name": "stdout",
          "text": [
            "Mon Apr  8 03:25:35 2024       \n",
            "+---------------------------------------------------------------------------------------+\n",
            "| NVIDIA-SMI 535.104.05             Driver Version: 535.104.05   CUDA Version: 12.2     |\n",
            "|-----------------------------------------+----------------------+----------------------+\n",
            "| GPU  Name                 Persistence-M | Bus-Id        Disp.A | Volatile Uncorr. ECC |\n",
            "| Fan  Temp   Perf          Pwr:Usage/Cap |         Memory-Usage | GPU-Util  Compute M. |\n",
            "|                                         |                      |               MIG M. |\n",
            "|=========================================+======================+======================|\n",
            "|   0  Tesla T4                       Off | 00000000:00:04.0 Off |                    0 |\n",
            "| N/A   45C    P8              10W /  70W |      0MiB / 15360MiB |      0%      Default |\n",
            "|                                         |                      |                  N/A |\n",
            "+-----------------------------------------+----------------------+----------------------+\n",
            "                                                                                         \n",
            "+---------------------------------------------------------------------------------------+\n",
            "| Processes:                                                                            |\n",
            "|  GPU   GI   CI        PID   Type   Process name                            GPU Memory |\n",
            "|        ID   ID                                                             Usage      |\n",
            "|=======================================================================================|\n",
            "|  No running processes found                                                           |\n",
            "+---------------------------------------------------------------------------------------+\n"
          ]
        },
        {
          "output_type": "execute_result",
          "data": {
            "text/plain": [
              "True"
            ]
          },
          "metadata": {},
          "execution_count": 80
        }
      ]
    },
    {
      "cell_type": "code",
      "source": [
        "#device agnostic code\n",
        "device = 'cuda' if torch.cuda.is_available() else 'cpu'\n"
      ],
      "metadata": {
        "id": "hsC95r8vMUvB"
      },
      "execution_count": null,
      "outputs": []
    },
    {
      "cell_type": "code",
      "source": [
        "#putting tensors on the gpu\n",
        "\n",
        "#Create a tensor  - default on the CPU\n",
        "tensor = torch.tensor([1,2,3])\n",
        "\n",
        "#tensor not on GPU\n",
        "print(tensor, tensor.device)\n"
      ],
      "metadata": {
        "id": "rI6y6dfVebdS",
        "colab": {
          "base_uri": "https://localhost:8080/"
        },
        "outputId": "328b6397-dd77-414a-8d36-443ea714d550"
      },
      "execution_count": null,
      "outputs": [
        {
          "output_type": "stream",
          "name": "stdout",
          "text": [
            "tensor([1, 2, 3]) cpu\n"
          ]
        }
      ]
    },
    {
      "cell_type": "code",
      "source": [
        "#moving the tensor to the GPU  - if available\n",
        "tensor_on_gpu = tensor.to(device)\n",
        "tensor_on_gpu"
      ],
      "metadata": {
        "id": "r7YSrNzbgKAh",
        "colab": {
          "base_uri": "https://localhost:8080/"
        },
        "outputId": "38313458-739b-477f-b862-3391b75d6e34"
      },
      "execution_count": null,
      "outputs": [
        {
          "output_type": "execute_result",
          "data": {
            "text/plain": [
              "tensor([1, 2, 3], device='cuda:0')"
            ]
          },
          "metadata": {},
          "execution_count": 83
        }
      ]
    },
    {
      "cell_type": "code",
      "source": [
        "#moving the tensor back to the cpu\n",
        "#to fix the gpu tensor with numpy, we will have to change it to cpu\n",
        "tensor_back_on_cpu = tensor_on_gpu.cpu().numpy()\n",
        "tensor_back_on_cpu"
      ],
      "metadata": {
        "id": "RoIUXJt2guVo",
        "colab": {
          "base_uri": "https://localhost:8080/"
        },
        "outputId": "04d04bb1-bbf0-4d8a-e04d-a09b408faed6"
      },
      "execution_count": null,
      "outputs": [
        {
          "output_type": "execute_result",
          "data": {
            "text/plain": [
              "array([1, 2, 3])"
            ]
          },
          "metadata": {},
          "execution_count": 84
        }
      ]
    },
    {
      "cell_type": "code",
      "source": [
        "#PYTORCH WORKFLOW MODULE - PART 2"
      ],
      "metadata": {
        "id": "nBc6HCu4hg_a"
      },
      "execution_count": null,
      "outputs": []
    },
    {
      "cell_type": "code",
      "source": [
        "#WHAT WILL BE COVERED -\n",
        "#DATA - PREPARING AND LOADING\n",
        "#Building the model\n",
        "#fitting the model into the data\n",
        "#making predictions (inference)\n",
        "#saving and loading the model\n",
        "#putting it together\n"
      ],
      "metadata": {
        "id": "oLboRsFJkRcY"
      },
      "execution_count": null,
      "outputs": []
    },
    {
      "cell_type": "code",
      "source": [
        "import torch\n",
        "from torch import nn #contains all the pytorch's building blocks for pytroch\n",
        "import matplotlib.pyplot as plt\n",
        "torch.__version__\n",
        "\n",
        "#1) Data preparing and loading\n",
        "#using linear regression formula with known parameters\n",
        "\n",
        "weight = 0.7\n",
        "bias = 0.3\n",
        "\n",
        "start = 0\n",
        "end= 1\n",
        "step=0.02\n",
        "#adding an extra dimension\n",
        "X = torch.arange(start, end,step).unsqueeze(dim=1)\n",
        "y = weight*X + bias\n",
        "\n",
        "X[:10], y[:10]\n"
      ],
      "metadata": {
        "colab": {
          "base_uri": "https://localhost:8080/"
        },
        "id": "VY1-GOujlaMg",
        "outputId": "adf5fd14-cbe5-40b2-de13-e2e6abf21e84"
      },
      "execution_count": null,
      "outputs": [
        {
          "output_type": "execute_result",
          "data": {
            "text/plain": [
              "(tensor([[0.0000],\n",
              "         [0.0200],\n",
              "         [0.0400],\n",
              "         [0.0600],\n",
              "         [0.0800],\n",
              "         [0.1000],\n",
              "         [0.1200],\n",
              "         [0.1400],\n",
              "         [0.1600],\n",
              "         [0.1800]]),\n",
              " tensor([[0.3000],\n",
              "         [0.3140],\n",
              "         [0.3280],\n",
              "         [0.3420],\n",
              "         [0.3560],\n",
              "         [0.3700],\n",
              "         [0.3840],\n",
              "         [0.3980],\n",
              "         [0.4120],\n",
              "         [0.4260]]))"
            ]
          },
          "metadata": {},
          "execution_count": 87
        }
      ]
    },
    {
      "cell_type": "code",
      "source": [
        "###Splitting data into training and testing sets - one of the most important concepts\n",
        "#the goal for this is generalization\n",
        "\n",
        "#we tune the model on the validation set\n",
        "\n",
        "train_split = int(0.8 * len(X))\n",
        "X_train, y_train = X[:train_split], y[:train_split]\n",
        "X_test, y_test = X[train_split:], y[train_split:]\n",
        "\n",
        "len(X_train), len(y_train), len(X_test), len(y_test)\n",
        "\n"
      ],
      "metadata": {
        "colab": {
          "base_uri": "https://localhost:8080/"
        },
        "id": "v_iQKqecrylE",
        "outputId": "67a5d057-e365-4307-b738-7dc24a830a00"
      },
      "execution_count": null,
      "outputs": [
        {
          "output_type": "execute_result",
          "data": {
            "text/plain": [
              "(40, 40, 10, 10)"
            ]
          },
          "metadata": {},
          "execution_count": 88
        }
      ]
    },
    {
      "cell_type": "code",
      "source": [
        "def plot_predictions(train_data=X_train, train_labels=y_train, test_data=X_test,\n",
        "                     test_labels=y_test, predictions=None):\n",
        "  #plots the training data, test data and compares the predictions\n",
        "  plt.figure(figsize=(10,7))\n",
        "  plt.scatter(train_data, train_labels, c=\"b\", s=4, label=\"Training data\")\n",
        "  #plot the test data in green\n",
        "  plt.scatter(test_data, test_labels, c=\"g\", s=4, label=\"Testing data\")\n",
        "\n",
        "  #Are there predictions?\n",
        "  if predictions is not None:\n",
        "    plt.scatter(test_data, predictions, c=\"r\", s=4, label=\"Predictions\")\n",
        "\n",
        "  plt.legend(prop={\"size\":14})\n",
        "\n",
        "\n",
        "\n",
        "\n"
      ],
      "metadata": {
        "id": "J14I-VImluJ4"
      },
      "execution_count": null,
      "outputs": []
    },
    {
      "cell_type": "code",
      "source": [
        "plot_predictions()"
      ],
      "metadata": {
        "id": "9MaK1elftPEj",
        "colab": {
          "base_uri": "https://localhost:8080/",
          "height": 552
        },
        "outputId": "d792eea8-2ca4-46fe-88e3-b18ad371cee1"
      },
      "execution_count": null,
      "outputs": [
        {
          "output_type": "display_data",
          "data": {
            "text/plain": [
              "<Figure size 1000x700 with 1 Axes>"
            ],
            "image/png": "[encoded data removed]"
          },
          "metadata": {}
        }
      ]
    },
    {
      "cell_type": "code",
      "source": [
        "##Building a model\n",
        "#first pytorch model.\n",
        "\n",
        "#What our model does:\n",
        "#start with random values, 2) Look at training data\n",
        "#adjust the random values to better represent the ideal values(weights and bias)\n",
        "#two main algorithms to learn - gradient descent and backpropogation.\n",
        "from torch import nn\n",
        "\n",
        "#We are going to create a linear regression model.\n",
        "#creating a linear regression model class\n",
        "\n",
        "#nn.Module - almost everything in pytorch inherits from nn.Module. Base class for all neural networks\n",
        "class LinearRegressionModel(nn.Module):\n",
        "  def __init__(self):\n",
        "    super().__init__()\n",
        "    self.weights = nn.Parameter(torch.randn(1, requires_grad=True, dtype=torch.float))\n",
        "    self.bias = nn.Parameter(torch.randn(1, requires_grad=True, dtype=torch.float))\n",
        "\n",
        "    #forward method to define computation in the model. This is needed for\n",
        "    #any of the nn modules (neural network modules)\n",
        "  def forward(self, x:torch.Tensor)-> torch.Tensor:\n",
        "      return self.weights*x + self.bias #the linear regression formula\n",
        "\n",
        "\n",
        "\n",
        "\n",
        "\n",
        "\n"
      ],
      "metadata": {
        "id": "1u7TwIsv1Xc7"
      },
      "execution_count": null,
      "outputs": []
    },
    {
      "cell_type": "code",
      "source": [
        "#Pytorch model building essentials\n",
        "# 1) torch.nn - contains all the building blocks for computational graphs\n",
        "# 2) torch.nn.Parameter - what parameters our modules should learn\n",
        "# 3) torch.nn.Module - base class for all neural network modules, always overwrite forward method\n",
        "# 4) torch.optim - optimizers in pytorch, helps with gradient descent\n",
        "# 5) def forward() - All nn.Module subclasses requires you to overwrite forward.\n",
        "# ^defines what happened in forward computation.\n",
        "\n"
      ],
      "metadata": {
        "id": "aLYKFiEq5vwe"
      },
      "execution_count": null,
      "outputs": []
    },
    {
      "cell_type": "code",
      "source": [
        "#checking the contents of our pytorch model\n",
        "\n",
        "#checking what is instead of our model. We can check what is instead our model using .parameters"
      ],
      "metadata": {
        "id": "gL9e9uZr8Q1O"
      },
      "execution_count": null,
      "outputs": []
    },
    {
      "cell_type": "code",
      "source": [
        "#create random seed\n",
        "import torch\n",
        "torch.manual_seed(42)\n",
        "#creating instance of the model - subclass of nn.Module\n",
        "model_0 = LinearRegressionModel()\n",
        "\n",
        "#checking our the parameters\n",
        "list(model_0.parameters())"
      ],
      "metadata": {
        "colab": {
          "base_uri": "https://localhost:8080/"
        },
        "id": "pBK5GdQZ8dqX",
        "outputId": "7de14cea-23d7-4228-80e6-ede860d8de80"
      },
      "execution_count": null,
      "outputs": [
        {
          "output_type": "execute_result",
          "data": {
            "text/plain": [
              "[Parameter containing:\n",
              " tensor([0.3367], requires_grad=True),\n",
              " Parameter containing:\n",
              " tensor([0.1288], requires_grad=True)]"
            ]
          },
          "metadata": {},
          "execution_count": 94
        }
      ]
    },
    {
      "cell_type": "code",
      "source": [
        "#List the named parameters\n",
        "model_0.state_dict()"
      ],
      "metadata": {
        "colab": {
          "base_uri": "https://localhost:8080/"
        },
        "id": "oRa0XFlw8xU0",
        "outputId": "149137c1-dfb3-49c7-b3c5-0580cf5f221b"
      },
      "execution_count": null,
      "outputs": [
        {
          "output_type": "execute_result",
          "data": {
            "text/plain": [
              "OrderedDict([('weights', tensor([0.3367])), ('bias', tensor([0.1288]))])"
            ]
          },
          "metadata": {},
          "execution_count": 95
        }
      ]
    },
    {
      "cell_type": "code",
      "source": [
        "weight, bias"
      ],
      "metadata": {
        "colab": {
          "base_uri": "https://localhost:8080/"
        },
        "id": "QZeaCIjX9lmf",
        "outputId": "0301a9e3-22cc-4fd9-ed12-d952cc24c666"
      },
      "execution_count": null,
      "outputs": [
        {
          "output_type": "execute_result",
          "data": {
            "text/plain": [
              "(0.7, 0.3)"
            ]
          },
          "metadata": {},
          "execution_count": 96
        }
      ]
    },
    {
      "cell_type": "code",
      "source": [
        "#an ideal model will take X_test values as the parameter and predict the y_test values accurately"
      ],
      "metadata": {
        "id": "dzPJWArm-k_4"
      },
      "execution_count": null,
      "outputs": []
    },
    {
      "cell_type": "code",
      "source": [
        "#Making predictions using the test data\n",
        "#we will be using torch.inference_model()\n",
        "\n",
        "#checking how it predicts y_test based on x_test\n",
        "\n",
        "#making predictions/inference, contains the gradient function\n",
        "with torch.inference_mode():\n",
        "  y_preds = model_0(X_test)\n",
        "\n",
        "y_preds, y_test\n",
        "\n",
        "plot_predictions(predictions=y_preds)\n"
      ],
      "metadata": {
        "colab": {
          "base_uri": "https://localhost:8080/",
          "height": 552
        },
        "id": "MhRYzBm59wVB",
        "outputId": "4e9fc3f9-c3ff-4fd5-b74f-58403ebf8381"
      },
      "execution_count": null,
      "outputs": [
        {
          "output_type": "display_data",
          "data": {
            "text/plain": [
              "<Figure size 1000x700 with 1 Axes>"
            ],
            "image/png": "[encoded data removed]"
          },
          "metadata": {}
        }
      ]
    },
    {
      "cell_type": "code",
      "source": [
        "#Training our first machine learning model\n",
        "#learning from unknown parameters to known parameters\n",
        "#poor representation -> good\n",
        "\n",
        "#WE WILL USE A LOSS FUNCTION ON THIS CASE.\n",
        "\n",
        "#Loss function is also called COST FUNCTION.\n",
        "\n",
        "#Loss fn - a fn to measure how wrong the model's predictions are to ideal output.\n",
        "#Talking about mean absolute error.\n",
        "\n",
        "#Optimizer - takes into account the loss function and adjusts the values according to the bias\n",
        "\n",
        "#For pytorch we need a training loop and a testig loop"
      ],
      "metadata": {
        "id": "MDCvAj0d-489"
      },
      "execution_count": null,
      "outputs": []
    },
    {
      "cell_type": "code",
      "source": [
        "#L1Loss is uses the MAE (Mean Absolute Error)\n",
        "#lr in the SGD is Learning rate, parameter is a value model sets itself\n",
        "#lr learning rate is a very important hyper parameter(higher the learning rate the bigger the \"step\" the optimizer will take. )\n",
        "#setting up a loss function\n",
        "#For classification problems, whether the photo is a cat or a dog, we use binary classification.\n",
        "loss_fn = nn.L1Loss()\n",
        "\n",
        "#setup an optimizer - torch.optim - The most popular one is SGD - Stochastic gradient descent\n",
        "optimizer = torch.optim.SGD(params=model_0.parameters(), lr=0.01)\n",
        "\n",
        "\n",
        "\n"
      ],
      "metadata": {
        "id": "IvkyjWLSQpeN"
      },
      "execution_count": null,
      "outputs": []
    },
    {
      "cell_type": "code",
      "source": [
        "#Builing a training loop and a testing loop in pytorch\n",
        "\n",
        "#Steps -\n",
        "#0 - Loop through the data\n",
        "#1 - Forward pass (involves the data moving through the model/layers) forward propogation\n",
        "#2 - Calculate the loss - compare forward pass predicitons to ground truth labels\n",
        "#3 - Optimizer zero grad\n",
        "#4 - (Backpropogation) Loss backward through the network to calculate the gradients of each of the parameters of our model w.r.t the loss\n",
        "#5 - (Gradient descent) Optimizer step - use the optimizer to adjust our model's parameters and try to improve the loss.\n",
        "#Gradient is basically the slope\n",
        "\n",
        "#Learning rate scheduling - start with big steps for gradient descent and then slowly decrease the steps.\n"
      ],
      "metadata": {
        "id": "ywQ8UKKNTzim"
      },
      "execution_count": null,
      "outputs": []
    },
    {
      "cell_type": "code",
      "source": [
        "#Epoch is one loop through the data\n",
        "epochs = 100\n",
        "epoch_count= []\n",
        "loss_values = []\n",
        "test_loss_values = []\n",
        "\n",
        "#Step 0  - Loop through the data:\n",
        "for epoch in range(epochs):\n",
        "  epoch_count.append(epoch)\n",
        "  #Set the model to training mode\n",
        "  model_0.train() #train mode sets all parameters that require gradients to require gradients\n",
        "  # 1 - Forward pass\n",
        "  y_pred = model_0(X_train)\n",
        "  # 2- calculating the loss\n",
        "  loss = loss_fn(y_pred, y_train)\n",
        "  '''\n",
        "  print(f\"Loss: {loss}\")\n",
        "  '''\n",
        "  loss_values.append(loss)\n",
        "  # 3- optimizer zero grad\n",
        "  optimizer.zero_grad()\n",
        "  #4 - Perform backpropogation on the loss w.r.t tthe parameters\n",
        "  loss.backward()\n",
        "  # 5- Step the optimizer - performs gradient descent\n",
        "  optimizer.step()\n",
        "\n",
        "  #Testing code\n",
        "  model_0.eval() #turns off the different settings not needed in the model for predicitons\n",
        "  with torch.inference_mode(): #turns of gradient tracking and other things not needed for testing\n",
        "    #1) forward pass\n",
        "\n",
        "    test_pred = model_0(X_test)\n",
        "\n",
        "    #2) Calculate the loss\n",
        "    test_loss = loss_fn(test_pred, y_test)\n",
        "    #printing out\n",
        "    if epoch % 10 == 0:\n",
        "      epoch_count.append(epoch)\n",
        "      loss_values.append(loss)\n",
        "      test_loss_values.append(test_loss)\n",
        "\n",
        "      print(f\"Epoch: {epoch} | Test : {loss} | Test_loss: {test_loss}\")\n",
        "\n",
        "\n",
        "\n",
        "\n",
        "\n",
        "  print(model_0.state_dict())\n"
      ],
      "metadata": {
        "colab": {
          "base_uri": "https://localhost:8080/"
        },
        "id": "TvW1hsTgVPxQ",
        "outputId": "0a2ff31f-4a68-46d2-8cb0-6baec98fe0a1"
      },
      "execution_count": null,
      "outputs": [
        {
          "output_type": "stream",
          "name": "stdout",
          "text": [
            "Epoch: 0 | Test : 0.31288138031959534 | Test_loss: 0.48106518387794495\n",
            "OrderedDict([('weights', tensor([0.3406])), ('bias', tensor([0.1388]))])\n",
            "OrderedDict([('weights', tensor([0.3445])), ('bias', tensor([0.1488]))])\n",
            "OrderedDict([('weights', tensor([0.3484])), ('bias', tensor([0.1588]))])\n",
            "OrderedDict([('weights', tensor([0.3523])), ('bias', tensor([0.1688]))])\n",
            "OrderedDict([('weights', tensor([0.3562])), ('bias', tensor([0.1788]))])\n",
            "OrderedDict([('weights', tensor([0.3601])), ('bias', tensor([0.1888]))])\n",
            "OrderedDict([('weights', tensor([0.3640])), ('bias', tensor([0.1988]))])\n",
            "OrderedDict([('weights', tensor([0.3679])), ('bias', tensor([0.2088]))])\n",
            "OrderedDict([('weights', tensor([0.3718])), ('bias', tensor([0.2188]))])\n",
            "OrderedDict([('weights', tensor([0.3757])), ('bias', tensor([0.2288]))])\n",
            "Epoch: 10 | Test : 0.1976713240146637 | Test_loss: 0.3463551998138428\n",
            "OrderedDict([('weights', tensor([0.3796])), ('bias', tensor([0.2388]))])\n",
            "OrderedDict([('weights', tensor([0.3835])), ('bias', tensor([0.2488]))])\n",
            "OrderedDict([('weights', tensor([0.3874])), ('bias', tensor([0.2588]))])\n",
            "OrderedDict([('weights', tensor([0.3913])), ('bias', tensor([0.2688]))])\n",
            "OrderedDict([('weights', tensor([0.3952])), ('bias', tensor([0.2788]))])\n",
            "OrderedDict([('weights', tensor([0.3991])), ('bias', tensor([0.2888]))])\n",
            "OrderedDict([('weights', tensor([0.4030])), ('bias', tensor([0.2988]))])\n",
            "OrderedDict([('weights', tensor([0.4069])), ('bias', tensor([0.3088]))])\n",
            "OrderedDict([('weights', tensor([0.4108])), ('bias', tensor([0.3178]))])\n",
            "OrderedDict([('weights', tensor([0.4146])), ('bias', tensor([0.3258]))])\n",
            "Epoch: 20 | Test : 0.08908725529909134 | Test_loss: 0.21729660034179688\n",
            "OrderedDict([('weights', tensor([0.4184])), ('bias', tensor([0.3333]))])\n",
            "OrderedDict([('weights', tensor([0.4222])), ('bias', tensor([0.3403]))])\n",
            "OrderedDict([('weights', tensor([0.4258])), ('bias', tensor([0.3463]))])\n",
            "OrderedDict([('weights', tensor([0.4293])), ('bias', tensor([0.3518]))])\n",
            "OrderedDict([('weights', tensor([0.4328])), ('bias', tensor([0.3568]))])\n",
            "OrderedDict([('weights', tensor([0.4361])), ('bias', tensor([0.3613]))])\n",
            "OrderedDict([('weights', tensor([0.4394])), ('bias', tensor([0.3653]))])\n",
            "OrderedDict([('weights', tensor([0.4425])), ('bias', tensor([0.3688]))])\n",
            "OrderedDict([('weights', tensor([0.4455])), ('bias', tensor([0.3718]))])\n",
            "OrderedDict([('weights', tensor([0.4483])), ('bias', tensor([0.3743]))])\n",
            "Epoch: 30 | Test : 0.053148526698350906 | Test_loss: 0.14464017748832703\n",
            "OrderedDict([('weights', tensor([0.4512])), ('bias', tensor([0.3768]))])\n",
            "OrderedDict([('weights', tensor([0.4539])), ('bias', tensor([0.3788]))])\n",
            "OrderedDict([('weights', tensor([0.4564])), ('bias', tensor([0.3803]))])\n",
            "OrderedDict([('weights', tensor([0.4590])), ('bias', tensor([0.3818]))])\n",
            "OrderedDict([('weights', tensor([0.4615])), ('bias', tensor([0.3833]))])\n",
            "OrderedDict([('weights', tensor([0.4639])), ('bias', tensor([0.3843]))])\n",
            "OrderedDict([('weights', tensor([0.4662])), ('bias', tensor([0.3853]))])\n",
            "OrderedDict([('weights', tensor([0.4684])), ('bias', tensor([0.3858]))])\n",
            "OrderedDict([('weights', tensor([0.4706])), ('bias', tensor([0.3863]))])\n",
            "OrderedDict([('weights', tensor([0.4728])), ('bias', tensor([0.3868]))])\n",
            "Epoch: 40 | Test : 0.04543796554207802 | Test_loss: 0.11360953003168106\n",
            "OrderedDict([('weights', tensor([0.4748])), ('bias', tensor([0.3868]))])\n",
            "OrderedDict([('weights', tensor([0.4768])), ('bias', tensor([0.3868]))])\n",
            "OrderedDict([('weights', tensor([0.4788])), ('bias', tensor([0.3868]))])\n",
            "OrderedDict([('weights', tensor([0.4808])), ('bias', tensor([0.3868]))])\n",
            "OrderedDict([('weights', tensor([0.4828])), ('bias', tensor([0.3868]))])\n",
            "OrderedDict([('weights', tensor([0.4848])), ('bias', tensor([0.3868]))])\n",
            "OrderedDict([('weights', tensor([0.4866])), ('bias', tensor([0.3863]))])\n",
            "OrderedDict([('weights', tensor([0.4884])), ('bias', tensor([0.3858]))])\n",
            "OrderedDict([('weights', tensor([0.4902])), ('bias', tensor([0.3853]))])\n",
            "OrderedDict([('weights', tensor([0.4920])), ('bias', tensor([0.3848]))])\n",
            "Epoch: 50 | Test : 0.04167863354086876 | Test_loss: 0.09919948130846024\n",
            "OrderedDict([('weights', tensor([0.4938])), ('bias', tensor([0.3843]))])\n",
            "OrderedDict([('weights', tensor([0.4956])), ('bias', tensor([0.3838]))])\n",
            "OrderedDict([('weights', tensor([0.4974])), ('bias', tensor([0.3833]))])\n",
            "OrderedDict([('weights', tensor([0.4992])), ('bias', tensor([0.3828]))])\n",
            "OrderedDict([('weights', tensor([0.5010])), ('bias', tensor([0.3823]))])\n",
            "OrderedDict([('weights', tensor([0.5028])), ('bias', tensor([0.3818]))])\n",
            "OrderedDict([('weights', tensor([0.5046])), ('bias', tensor([0.3813]))])\n",
            "OrderedDict([('weights', tensor([0.5064])), ('bias', tensor([0.3808]))])\n",
            "OrderedDict([('weights', tensor([0.5082])), ('bias', tensor([0.3803]))])\n",
            "OrderedDict([('weights', tensor([0.5100])), ('bias', tensor([0.3798]))])\n",
            "Epoch: 60 | Test : 0.03818932920694351 | Test_loss: 0.08886633068323135\n",
            "OrderedDict([('weights', tensor([0.5116])), ('bias', tensor([0.3788]))])\n",
            "OrderedDict([('weights', tensor([0.5134])), ('bias', tensor([0.3783]))])\n",
            "OrderedDict([('weights', tensor([0.5152])), ('bias', tensor([0.3778]))])\n",
            "OrderedDict([('weights', tensor([0.5168])), ('bias', tensor([0.3768]))])\n",
            "OrderedDict([('weights', tensor([0.5186])), ('bias', tensor([0.3763]))])\n",
            "OrderedDict([('weights', tensor([0.5202])), ('bias', tensor([0.3753]))])\n",
            "OrderedDict([('weights', tensor([0.5220])), ('bias', tensor([0.3748]))])\n",
            "OrderedDict([('weights', tensor([0.5236])), ('bias', tensor([0.3738]))])\n",
            "OrderedDict([('weights', tensor([0.5254])), ('bias', tensor([0.3733]))])\n",
            "OrderedDict([('weights', tensor([0.5272])), ('bias', tensor([0.3728]))])\n",
            "Epoch: 70 | Test : 0.03476089984178543 | Test_loss: 0.0805937647819519\n",
            "OrderedDict([('weights', tensor([0.5288])), ('bias', tensor([0.3718]))])\n",
            "OrderedDict([('weights', tensor([0.5306])), ('bias', tensor([0.3713]))])\n",
            "OrderedDict([('weights', tensor([0.5322])), ('bias', tensor([0.3703]))])\n",
            "OrderedDict([('weights', tensor([0.5340])), ('bias', tensor([0.3698]))])\n",
            "OrderedDict([('weights', tensor([0.5355])), ('bias', tensor([0.3688]))])\n",
            "OrderedDict([('weights', tensor([0.5373])), ('bias', tensor([0.3683]))])\n",
            "OrderedDict([('weights', tensor([0.5391])), ('bias', tensor([0.3678]))])\n",
            "OrderedDict([('weights', tensor([0.5407])), ('bias', tensor([0.3668]))])\n",
            "OrderedDict([('weights', tensor([0.5425])), ('bias', tensor([0.3663]))])\n",
            "OrderedDict([('weights', tensor([0.5441])), ('bias', tensor([0.3653]))])\n",
            "Epoch: 80 | Test : 0.03132382780313492 | Test_loss: 0.07232122868299484\n",
            "OrderedDict([('weights', tensor([0.5459])), ('bias', tensor([0.3648]))])\n",
            "OrderedDict([('weights', tensor([0.5475])), ('bias', tensor([0.3638]))])\n",
            "OrderedDict([('weights', tensor([0.5493])), ('bias', tensor([0.3633]))])\n",
            "OrderedDict([('weights', tensor([0.5509])), ('bias', tensor([0.3623]))])\n",
            "OrderedDict([('weights', tensor([0.5527])), ('bias', tensor([0.3618]))])\n",
            "OrderedDict([('weights', tensor([0.5545])), ('bias', tensor([0.3613]))])\n",
            "OrderedDict([('weights', tensor([0.5561])), ('bias', tensor([0.3603]))])\n",
            "OrderedDict([('weights', tensor([0.5579])), ('bias', tensor([0.3598]))])\n",
            "OrderedDict([('weights', tensor([0.5595])), ('bias', tensor([0.3588]))])\n",
            "OrderedDict([('weights', tensor([0.5613])), ('bias', tensor([0.3583]))])\n",
            "Epoch: 90 | Test : 0.02788739837706089 | Test_loss: 0.06473556160926819\n",
            "OrderedDict([('weights', tensor([0.5629])), ('bias', tensor([0.3573]))])\n",
            "OrderedDict([('weights', tensor([0.5647])), ('bias', tensor([0.3568]))])\n",
            "OrderedDict([('weights', tensor([0.5665])), ('bias', tensor([0.3563]))])\n",
            "OrderedDict([('weights', tensor([0.5681])), ('bias', tensor([0.3553]))])\n",
            "OrderedDict([('weights', tensor([0.5699])), ('bias', tensor([0.3548]))])\n",
            "OrderedDict([('weights', tensor([0.5715])), ('bias', tensor([0.3538]))])\n",
            "OrderedDict([('weights', tensor([0.5733])), ('bias', tensor([0.3533]))])\n",
            "OrderedDict([('weights', tensor([0.5748])), ('bias', tensor([0.3523]))])\n",
            "OrderedDict([('weights', tensor([0.5766])), ('bias', tensor([0.3518]))])\n",
            "OrderedDict([('weights', tensor([0.5784])), ('bias', tensor([0.3513]))])\n"
          ]
        }
      ]
    },
    {
      "cell_type": "code",
      "source": [
        "\n"
      ],
      "metadata": {
        "id": "HFN1ssgf792y"
      },
      "execution_count": null,
      "outputs": []
    },
    {
      "cell_type": "code",
      "source": [
        "plot_predictions(predictions=y_preds)"
      ],
      "metadata": {
        "colab": {
          "base_uri": "https://localhost:8080/",
          "height": 552
        },
        "id": "R5ZWqUM02G_G",
        "outputId": "188fb1d5-e605-4db2-960f-54630cfa4fb6"
      },
      "execution_count": null,
      "outputs": [
        {
          "output_type": "display_data",
          "data": {
            "text/plain": [
              "<Figure size 1000x700 with 1 Axes>"
            ],
            "image/png": "[encoded data removed]"
          },
          "metadata": {}
        }
      ]
    },
    {
      "cell_type": "code",
      "source": [
        "with torch.inference_mode():\n",
        "  y_preds_new = model_0(X_test)\n",
        "\n",
        "plot_predictions(predictions=y_preds_new)"
      ],
      "metadata": {
        "colab": {
          "base_uri": "https://localhost:8080/",
          "height": 552
        },
        "id": "E9jjCtnX2IaR",
        "outputId": "65b2093a-2120-4242-bca0-c1f10f9f78e2"
      },
      "execution_count": null,
      "outputs": [
        {
          "output_type": "display_data",
          "data": {
            "text/plain": [
              "<Figure size 1000x700 with 1 Axes>"
            ],
            "image/png": "[encoded data removed]"
          },
          "metadata": {}
        }
      ]
    },
    {
      "cell_type": "code",
      "source": [
        "#Three main methods of saving and loading the pytorch modles\n",
        "#torch.save - saving a pytorch object\n",
        "#torch.load() - allows you to load theh saved pytorch object\n",
        "#torch.nn.Module.load_state_dict() - load the model's saved dictionary"
      ],
      "metadata": {
        "id": "Dhb9P5rx3k7C"
      },
      "execution_count": null,
      "outputs": []
    },
    {
      "cell_type": "code",
      "source": [
        "model_0.state_dict()"
      ],
      "metadata": {
        "colab": {
          "base_uri": "https://localhost:8080/"
        },
        "id": "QtjCOJDJN4WO",
        "outputId": "e15acc8e-e1f8-492b-d347-32a535b1625a"
      },
      "execution_count": null,
      "outputs": [
        {
          "output_type": "execute_result",
          "data": {
            "text/plain": [
              "OrderedDict([('weights', tensor([0.5784])), ('bias', tensor([0.3513]))])"
            ]
          },
          "metadata": {},
          "execution_count": 106
        }
      ]
    },
    {
      "cell_type": "code",
      "source": [
        "#Saving our pytorch model\n",
        "from pathlib import Path\n",
        "\n",
        "#create model directory\n",
        "MODEL_PATH = Path(\"models\")\n",
        "MODEL_PATH.mkdir(parents=True, exist_ok=True)\n",
        "\n",
        "#create a model save path\n",
        "MODEL_NAME = \"01_pytorch_workflow_model_0.pth\"\n",
        "MODEL_SAVE_PATH=MODEL_PATH / MODEL_NAME\n",
        "MODEL_SAVE_PATH"
      ],
      "metadata": {
        "colab": {
          "base_uri": "https://localhost:8080/"
        },
        "id": "aUniF77FN6c0",
        "outputId": "77065e95-f735-4677-9d08-2eb6a7b48408"
      },
      "execution_count": null,
      "outputs": [
        {
          "output_type": "execute_result",
          "data": {
            "text/plain": [
              "PosixPath('models/01_pytorch_workflow_model_0.pth')"
            ]
          },
          "metadata": {},
          "execution_count": 107
        }
      ]
    },
    {
      "cell_type": "code",
      "source": [
        "#SAVE THE MODEL using state_dict\n",
        "\n",
        "print(f\"Saving the model to : {MODEL_SAVE_PATH}\")\n",
        "torch.save(obj=model_0.state_dict(), f=MODEL_SAVE_PATH)"
      ],
      "metadata": {
        "colab": {
          "base_uri": "https://localhost:8080/"
        },
        "id": "bF-1vNeNPENe",
        "outputId": "d1e7d018-8903-4395-dc53-bf51cd28aad8"
      },
      "execution_count": null,
      "outputs": [
        {
          "output_type": "stream",
          "name": "stdout",
          "text": [
            "Saving the model to : models/01_pytorch_workflow_model_0.pth\n"
          ]
        }
      ]
    },
    {
      "cell_type": "code",
      "source": [
        "!ls -l models\n"
      ],
      "metadata": {
        "colab": {
          "base_uri": "https://localhost:8080/"
        },
        "id": "U7dqGTJ3PdRV",
        "outputId": "e989fbcc-58e0-420c-9696-0dd0d54a8e96"
      },
      "execution_count": null,
      "outputs": [
        {
          "output_type": "stream",
          "name": "stdout",
          "text": [
            "total 4\n",
            "-rw-r--r-- 1 root root 1680 Apr  8 03:25 01_pytorch_workflow_model_0.pth\n"
          ]
        }
      ]
    },
    {
      "cell_type": "code",
      "source": [
        "#Loading a pytorch model\n",
        "\n",
        "#we will have to create a new instance o our model class and load the saved dict into that\n",
        "\n",
        "model_0.state_dict()"
      ],
      "metadata": {
        "colab": {
          "base_uri": "https://localhost:8080/"
        },
        "id": "Kh7owz-TPsmG",
        "outputId": "0843be2d-77e5-419e-a8fd-0d48e2d17d53"
      },
      "execution_count": null,
      "outputs": [
        {
          "output_type": "execute_result",
          "data": {
            "text/plain": [
              "OrderedDict([('weights', tensor([0.5784])), ('bias', tensor([0.3513]))])"
            ]
          },
          "metadata": {},
          "execution_count": 110
        }
      ]
    },
    {
      "cell_type": "code",
      "source": [
        "#loading in a saved state_dict\n",
        "\n",
        "loaded_model_0 = LinearRegressionModel()\n",
        "\n",
        "#Load the saved state_dict of the model_0 - with updated parameters\n",
        "loaded_model_0.load_state_dict(torch.load(f=MODEL_SAVE_PATH))"
      ],
      "metadata": {
        "colab": {
          "base_uri": "https://localhost:8080/"
        },
        "id": "-zYVljx4QQgt",
        "outputId": "00d34787-efe9-4bc4-9480-38fe6f542a4c"
      },
      "execution_count": null,
      "outputs": [
        {
          "output_type": "execute_result",
          "data": {
            "text/plain": [
              "<All keys matched successfully>"
            ]
          },
          "metadata": {},
          "execution_count": 111
        }
      ]
    },
    {
      "cell_type": "code",
      "source": [
        "loaded_model_0.state_dict()"
      ],
      "metadata": {
        "colab": {
          "base_uri": "https://localhost:8080/"
        },
        "id": "sjrVLDg1QiJu",
        "outputId": "632178ee-6420-4b15-9376-d45d2cea2276"
      },
      "execution_count": null,
      "outputs": [
        {
          "output_type": "execute_result",
          "data": {
            "text/plain": [
              "OrderedDict([('weights', tensor([0.5784])), ('bias', tensor([0.3513]))])"
            ]
          },
          "metadata": {},
          "execution_count": 112
        }
      ]
    },
    {
      "cell_type": "code",
      "source": [
        "#Making some predictions\n",
        "loaded_model_0.eval()\n",
        "with torch.inference_mode():\n",
        "  loaded_model_preds = loaded_model_0(X_test)\n",
        "\n",
        "loaded_model_preds"
      ],
      "metadata": {
        "colab": {
          "base_uri": "https://localhost:8080/"
        },
        "id": "9lbJiw0rROHf",
        "outputId": "8de9b41c-f1c4-4857-9338-91e984599942"
      },
      "execution_count": null,
      "outputs": [
        {
          "output_type": "execute_result",
          "data": {
            "text/plain": [
              "tensor([[0.8141],\n",
              "        [0.8256],\n",
              "        [0.8372],\n",
              "        [0.8488],\n",
              "        [0.8603],\n",
              "        [0.8719],\n",
              "        [0.8835],\n",
              "        [0.8950],\n",
              "        [0.9066],\n",
              "        [0.9182]])"
            ]
          },
          "metadata": {},
          "execution_count": 113
        }
      ]
    },
    {
      "cell_type": "code",
      "source": [
        "#comparing the loaded model preds with the orignal model preds\n",
        "model_0.eval()\n",
        "with torch.inference_mode():\n",
        "  y_preds = model_0(X_test)\n",
        "\n",
        "y_preds\n",
        "\n",
        "y_preds == loaded_model_preds"
      ],
      "metadata": {
        "colab": {
          "base_uri": "https://localhost:8080/"
        },
        "id": "Acuj4AAGRdyY",
        "outputId": "7adebe2e-d542-4b76-8124-90928751f10c"
      },
      "execution_count": null,
      "outputs": [
        {
          "output_type": "execute_result",
          "data": {
            "text/plain": [
              "tensor([[True],\n",
              "        [True],\n",
              "        [True],\n",
              "        [True],\n",
              "        [True],\n",
              "        [True],\n",
              "        [True],\n",
              "        [True],\n",
              "        [True],\n",
              "        [True]])"
            ]
          },
          "metadata": {},
          "execution_count": 114
        }
      ]
    },
    {
      "cell_type": "code",
      "source": [
        "#Importing pytorch and matplotlib\n",
        "import torch\n",
        "from torch import nn\n",
        "import matplotlib.pyplot as plt\n",
        "\n",
        "torch.__version__"
      ],
      "metadata": {
        "colab": {
          "base_uri": "https://localhost:8080/",
          "height": 35
        },
        "id": "o9wi0vkcRkyV",
        "outputId": "f92901dc-3931-47fb-89ad-b95cd6b60b5f"
      },
      "execution_count": null,
      "outputs": [
        {
          "output_type": "execute_result",
          "data": {
            "text/plain": [
              "'2.2.1+cu121'"
            ],
            "application/vnd.google.colaboratory.intrinsic+json": {
              "type": "string"
            }
          },
          "metadata": {},
          "execution_count": 115
        }
      ]
    },
    {
      "cell_type": "code",
      "source": [
        "#creating device agnostic code - did we get access to GPU OR NOT\n",
        "#Set up device agnostic code\n",
        "device=\"cuda\" if torch.cuda.is_available() else \"cpu\"\n",
        "print(f\"Using device: {device}\")"
      ],
      "metadata": {
        "colab": {
          "base_uri": "https://localhost:8080/"
        },
        "id": "xkd-9eBASuiZ",
        "outputId": "89870ca8-2cb4-4b7a-acfc-8d18bf68a574"
      },
      "execution_count": null,
      "outputs": [
        {
          "output_type": "stream",
          "name": "stdout",
          "text": [
            "Using device: cuda\n"
          ]
        }
      ]
    },
    {
      "cell_type": "code",
      "source": [
        "#creating some data using the linear regression model\n",
        "#y = weight*X +bias\n",
        "weight = 0.5\n",
        "bias = 0.2\n",
        "#Creating range values\n",
        "start = 0\n",
        "end=1\n",
        "step =0.02\n",
        "\n",
        "#Creating X and Y  - features and labels\n",
        "\n",
        "X = torch.arange(start, end, step).unsqueeze(dim=1)\n",
        "y = weight*X + bias\n",
        "X[:10], y[:10]"
      ],
      "metadata": {
        "colab": {
          "base_uri": "https://localhost:8080/"
        },
        "id": "zaN3v8p3TDrC",
        "outputId": "f17c4d20-a894-4094-b477-df539eda0acc"
      },
      "execution_count": null,
      "outputs": [
        {
          "output_type": "execute_result",
          "data": {
            "text/plain": [
              "(tensor([[0.0000],\n",
              "         [0.0200],\n",
              "         [0.0400],\n",
              "         [0.0600],\n",
              "         [0.0800],\n",
              "         [0.1000],\n",
              "         [0.1200],\n",
              "         [0.1400],\n",
              "         [0.1600],\n",
              "         [0.1800]]),\n",
              " tensor([[0.2000],\n",
              "         [0.2100],\n",
              "         [0.2200],\n",
              "         [0.2300],\n",
              "         [0.2400],\n",
              "         [0.2500],\n",
              "         [0.2600],\n",
              "         [0.2700],\n",
              "         [0.2800],\n",
              "         [0.2900]]))"
            ]
          },
          "metadata": {},
          "execution_count": 117
        }
      ]
    },
    {
      "cell_type": "code",
      "source": [
        "#splitting the data\n",
        "train_split = int(0.8*len(X))\n",
        "X_train, y_train = X[:train_split], y[:train_split]\n",
        "X_test, y_test = X[train_split:], y[train_split:]\n",
        "\n",
        "len(X_train), len(y_train), len(X_test), len(y_test)\n"
      ],
      "metadata": {
        "colab": {
          "base_uri": "https://localhost:8080/"
        },
        "id": "Y5GFHblIU-v6",
        "outputId": "88d08223-af25-4ea1-d84c-4eb9f7d271d3"
      },
      "execution_count": null,
      "outputs": [
        {
          "output_type": "execute_result",
          "data": {
            "text/plain": [
              "(40, 40, 10, 10)"
            ]
          },
          "metadata": {},
          "execution_count": 118
        }
      ]
    },
    {
      "cell_type": "code",
      "source": [
        "plot_predictions(X_train, y_train, X_test, y_test)"
      ],
      "metadata": {
        "colab": {
          "base_uri": "https://localhost:8080/",
          "height": 552
        },
        "id": "Usk-g-HCVdis",
        "outputId": "be45c9e9-f12c-4648-ec34-85eb87b7766b"
      },
      "execution_count": null,
      "outputs": [
        {
          "output_type": "display_data",
          "data": {
            "text/plain": [
              "<Figure size 1000x700 with 1 Axes>"
            ],
            "image/png": "[encoded data removed]"
          },
          "metadata": {}
        }
      ]
    },
    {
      "cell_type": "code",
      "source": [
        "#Building a pytorch linear model (for linear regression)\n",
        "\n",
        " #Create a linear model by sub classing nn.Module\n",
        "\n",
        "class LinearRegressionModelV2(nn.Module):\n",
        "  def __init__(self):\n",
        "    super().__init__()\n",
        "    #Using nn.Linear() for creating the model parameters - also called linear transformed, dense layer etc, LINEAR TRANSFORM\n",
        "    self.linear_layer = nn.Linear(in_features=1, out_features=1)\n",
        "\n",
        "\n",
        "  def forward(self, x:torch.Tensor) -> torch.Tensor:\n",
        "    return self.linear_layer(x)\n",
        "\n",
        "torch.manual_seed(42)\n",
        "model_1 = LinearRegressionModelV2()\n",
        "model_1, model_1.state_dict()\n",
        "\n",
        "\n"
      ],
      "metadata": {
        "id": "R5rgCL6pVp5M",
        "colab": {
          "base_uri": "https://localhost:8080/"
        },
        "outputId": "0104db27-e111-4dae-a992-8530c6ca83aa"
      },
      "execution_count": null,
      "outputs": [
        {
          "output_type": "execute_result",
          "data": {
            "text/plain": [
              "(LinearRegressionModelV2(\n",
              "   (linear_layer): Linear(in_features=1, out_features=1, bias=True)\n",
              " ),\n",
              " OrderedDict([('linear_layer.weight', tensor([[0.7645]])),\n",
              "              ('linear_layer.bias', tensor([0.8300]))]))"
            ]
          },
          "metadata": {},
          "execution_count": 120
        }
      ]
    },
    {
      "cell_type": "code",
      "source": [
        "#set the model to use the target device\n",
        "#device agnostic code -\n",
        "next(model_1.parameters()).device"
      ],
      "metadata": {
        "colab": {
          "base_uri": "https://localhost:8080/"
        },
        "id": "Ts-x8LXoXQ4b",
        "outputId": "52e79da8-d595-4746-975f-e6b208ad17b0"
      },
      "execution_count": null,
      "outputs": [
        {
          "output_type": "execute_result",
          "data": {
            "text/plain": [
              "device(type='cpu')"
            ]
          },
          "metadata": {},
          "execution_count": 121
        }
      ]
    },
    {
      "cell_type": "code",
      "source": [
        "model_1.to(device)\n",
        "next(model_1.parameters()).device"
      ],
      "metadata": {
        "id": "6IUHP-qVXU1T",
        "colab": {
          "base_uri": "https://localhost:8080/"
        },
        "outputId": "40881785-f5c3-4b9d-9287-486a55f41118"
      },
      "execution_count": null,
      "outputs": [
        {
          "output_type": "execute_result",
          "data": {
            "text/plain": [
              "device(type='cuda', index=0)"
            ]
          },
          "metadata": {},
          "execution_count": 122
        }
      ]
    },
    {
      "cell_type": "code",
      "source": [
        "#Training code\n",
        "#For training we need a loss function, optimizer, training loop and a testing loop\n",
        "\n",
        "\n",
        "#Setting up a loss function\n",
        "loss_fn = nn.L1Loss()\n",
        "\n",
        "#Setting up optimizer\n",
        "optimizer = torch.optim.SGD(params=model_1.parameters(), lr=0.2)\n",
        "\n",
        "torch.manual_seed(42)\n",
        "\n",
        "epochs = 200\n",
        "#device agnostic code for your data, data might be on the cpu when the model is on the gpu\n",
        "#puts the tensors into the gpu for faster computation.\n",
        "X_train = X_train.to(device)\n",
        "y_train=y_train.to(device)\n",
        "X_test = X_test.to(device)\n",
        "y_test = y_test.to(device)\n",
        "\n",
        "for epoch in range(epochs):\n",
        "  model_1.train()\n",
        "\n",
        "  #Forward pass\n",
        "  y_pred = model_1(X_train)\n",
        "\n",
        "  #Calculating the loss\n",
        "  loss = loss_fn(y_pred, y_train)\n",
        "\n",
        "  #Optimizer\n",
        "  optimizer.zero_grad()\n",
        "\n",
        "  #Backpropogation\n",
        "  loss.backward()\n",
        "\n",
        "  #Optimizer step\n",
        "  optimizer.step()\n",
        "\n",
        "  #Testing\n",
        "  model_1.eval()\n",
        "  with torch.inference_mode():\n",
        "    test_pred = model_1(X_test)\n",
        "\n",
        "    test_loss = loss_fn(test_pred, y_test)\n",
        "\n",
        "  if epoch %10 == 0:\n",
        "    print(f\"Epoch : {epoch} Loss : {loss} Test Loss : {test_loss}\")\n",
        "\n",
        "\n",
        "\n"
      ],
      "metadata": {
        "colab": {
          "base_uri": "https://localhost:8080/"
        },
        "id": "QlU0tt2AjfaE",
        "outputId": "424e96de-93c7-4d4e-fc40-fab1ab7f1c02"
      },
      "execution_count": null,
      "outputs": [
        {
          "output_type": "stream",
          "name": "stdout",
          "text": [
            "Epoch : 0 Loss : 0.041917942464351654 Test Loss : 0.21223273873329163\n",
            "Epoch : 10 Loss : 0.041917942464351654 Test Loss : 0.21223273873329163\n",
            "Epoch : 20 Loss : 0.041917942464351654 Test Loss : 0.21223273873329163\n",
            "Epoch : 30 Loss : 0.041917942464351654 Test Loss : 0.21223273873329163\n",
            "Epoch : 40 Loss : 0.041917942464351654 Test Loss : 0.21223273873329163\n",
            "Epoch : 50 Loss : 0.041917942464351654 Test Loss : 0.21223273873329163\n",
            "Epoch : 60 Loss : 0.041917942464351654 Test Loss : 0.21223273873329163\n",
            "Epoch : 70 Loss : 0.041917942464351654 Test Loss : 0.21223273873329163\n",
            "Epoch : 80 Loss : 0.041917942464351654 Test Loss : 0.21223273873329163\n",
            "Epoch : 90 Loss : 0.041917942464351654 Test Loss : 0.21223273873329163\n",
            "Epoch : 100 Loss : 0.041917942464351654 Test Loss : 0.21223273873329163\n",
            "Epoch : 110 Loss : 0.041917942464351654 Test Loss : 0.21223273873329163\n",
            "Epoch : 120 Loss : 0.041917942464351654 Test Loss : 0.21223273873329163\n",
            "Epoch : 130 Loss : 0.041917942464351654 Test Loss : 0.21223273873329163\n",
            "Epoch : 140 Loss : 0.041917942464351654 Test Loss : 0.21223273873329163\n",
            "Epoch : 150 Loss : 0.041917942464351654 Test Loss : 0.21223273873329163\n",
            "Epoch : 160 Loss : 0.041917942464351654 Test Loss : 0.21223273873329163\n",
            "Epoch : 170 Loss : 0.041917942464351654 Test Loss : 0.21223273873329163\n",
            "Epoch : 180 Loss : 0.041917942464351654 Test Loss : 0.21223273873329163\n",
            "Epoch : 190 Loss : 0.041917942464351654 Test Loss : 0.21223273873329163\n"
          ]
        }
      ]
    },
    {
      "cell_type": "code",
      "source": [
        "model_1.state_dict()"
      ],
      "metadata": {
        "colab": {
          "base_uri": "https://localhost:8080/"
        },
        "id": "ZI3fcNNFlLh_",
        "outputId": "d2004bb9-0f21-47ce-f57e-ae916458635a"
      },
      "execution_count": null,
      "outputs": [
        {
          "output_type": "execute_result",
          "data": {
            "text/plain": [
              "OrderedDict([('linear_layer.weight', tensor([[0.5305]], device='cuda:0')),\n",
              "             ('linear_layer.bias', tensor([0.2300], device='cuda:0'))])"
            ]
          },
          "metadata": {},
          "execution_count": 147
        }
      ]
    },
    {
      "cell_type": "code",
      "source": [
        "weight, bias"
      ],
      "metadata": {
        "colab": {
          "base_uri": "https://localhost:8080/"
        },
        "id": "QQniEZW-l-sy",
        "outputId": "36ad8fbc-2628-47d9-c78a-cd4317bfebd5"
      },
      "execution_count": null,
      "outputs": [
        {
          "output_type": "execute_result",
          "data": {
            "text/plain": [
              "(0.5, 0.2)"
            ]
          },
          "metadata": {},
          "execution_count": 148
        }
      ]
    },
    {
      "cell_type": "code",
      "source": [
        "model_1.eval()"
      ],
      "metadata": {
        "colab": {
          "base_uri": "https://localhost:8080/"
        },
        "id": "FE81-Z9KmBLO",
        "outputId": "8faa62d6-9b2d-42c2-b77a-28ca04837dd7"
      },
      "execution_count": null,
      "outputs": [
        {
          "output_type": "execute_result",
          "data": {
            "text/plain": [
              "LinearRegressionModelV2(\n",
              "  (linear_layer): Linear(in_features=1, out_features=1, bias=True)\n",
              ")"
            ]
          },
          "metadata": {},
          "execution_count": 149
        }
      ]
    },
    {
      "cell_type": "code",
      "source": [
        "with torch.inference_mode():\n",
        "  y_preds = model_1(X_test)\n",
        "y_preds"
      ],
      "metadata": {
        "id": "eMDwVmbxmI7O",
        "colab": {
          "base_uri": "https://localhost:8080/"
        },
        "outputId": "9c6e7904-734b-484c-c82f-e74e6b9096f8"
      },
      "execution_count": null,
      "outputs": [
        {
          "output_type": "execute_result",
          "data": {
            "text/plain": [
              "tensor([[0.6544],\n",
              "        [0.6650],\n",
              "        [0.6757],\n",
              "        [0.6863],\n",
              "        [0.6969],\n",
              "        [0.7075],\n",
              "        [0.7181],\n",
              "        [0.7287],\n",
              "        [0.7393],\n",
              "        [0.7499]], device='cuda:0')"
            ]
          },
          "metadata": {},
          "execution_count": 150
        }
      ]
    },
    {
      "cell_type": "code",
      "source": [
        "#Checking out our model predictions visually\n",
        "\n",
        "plot_predictions(predictions=y_preds.cpu())"
      ],
      "metadata": {
        "colab": {
          "base_uri": "https://localhost:8080/",
          "height": 619
        },
        "id": "xXpzSVIgvm9E",
        "outputId": "447dfde7-63b3-4ae1-92b1-39ef9857acdd"
      },
      "execution_count": null,
      "outputs": [
        {
          "output_type": "display_data",
          "data": {
            "text/plain": [
              "<Figure size 1000x700 with 1 Axes>"
            ],
            "image/png": "[encoded data removed]"
          },
          "metadata": {}
        }
      ]
    },
    {
      "cell_type": "code",
      "source": [
        "#Saving and loading a trained model.\n",
        "\n",
        "from pathlib import Path\n",
        "\n",
        "#Creating a model directory\n",
        "\n",
        "MODEL_PATH = Path(\"models\")\n",
        "MODEL_PATH.mkdir(parents=True, exist_ok=True)\n",
        "MODEL_NAME = \"01_pytorch_workflow_1.pth\"\n",
        "\n",
        "MODEL_SAVE_PATH = MODEL_PATH / MODEL_NAME\n",
        "MODEL_SAVE_PATH\n"
      ],
      "metadata": {
        "colab": {
          "base_uri": "https://localhost:8080/"
        },
        "id": "7Fs4J_cSv7iO",
        "outputId": "00261985-a843-4ad9-9fd9-2b74324f013d"
      },
      "execution_count": null,
      "outputs": [
        {
          "output_type": "execute_result",
          "data": {
            "text/plain": [
              "PosixPath('models/01_pytorch_workflow_1.pth')"
            ]
          },
          "metadata": {},
          "execution_count": 153
        }
      ]
    },
    {
      "cell_type": "code",
      "source": [
        "#Saving the model save dict\n",
        "print(f\"Saving the model to : {MODEL_SAVE_PATH}\")\n",
        "torch.save(obj=model_1.state_dict(), f=MODEL_SAVE_PATH)"
      ],
      "metadata": {
        "colab": {
          "base_uri": "https://localhost:8080/"
        },
        "id": "sbWovF5cw66U",
        "outputId": "613e5dca-b28d-409d-9e3e-668b7b338ee4"
      },
      "execution_count": null,
      "outputs": [
        {
          "output_type": "stream",
          "name": "stdout",
          "text": [
            "Saving the model to : models/01_pytorch_workflow_1.pth\n"
          ]
        }
      ]
    },
    {
      "cell_type": "code",
      "source": [
        "#Loading the pytorch model\n",
        "#subclasses nn.Module\n",
        "#Using the pytorch's in build NN layers and then calling them\n",
        "loaded_model_1 = LinearRegressionModelV2()\n",
        "\n",
        "\n",
        "#Load the saved model_! state_dict\n",
        "loaded_model_1.load_state_dict(torch.load(MODEL_SAVE_PATH))\n",
        "loaded_model_1.to(device)"
      ],
      "metadata": {
        "colab": {
          "base_uri": "https://localhost:8080/"
        },
        "id": "ZYOZFmemxFq0",
        "outputId": "68e8a488-5cc4-43a0-ada4-1c089e9e5ef7"
      },
      "execution_count": null,
      "outputs": [
        {
          "output_type": "execute_result",
          "data": {
            "text/plain": [
              "LinearRegressionModelV2(\n",
              "  (linear_layer): Linear(in_features=1, out_features=1, bias=True)\n",
              ")"
            ]
          },
          "metadata": {},
          "execution_count": 158
        }
      ]
    },
    {
      "cell_type": "code",
      "source": [
        "next(loaded_model_1.parameters()).device"
      ],
      "metadata": {
        "colab": {
          "base_uri": "https://localhost:8080/"
        },
        "id": "2pUGFbk8x30K",
        "outputId": "89bc769a-c8de-4b35-bb99-9a604d8ece50"
      },
      "execution_count": null,
      "outputs": [
        {
          "output_type": "execute_result",
          "data": {
            "text/plain": [
              "device(type='cuda', index=0)"
            ]
          },
          "metadata": {},
          "execution_count": 160
        }
      ]
    },
    {
      "cell_type": "code",
      "source": [
        "loaded_model_1.state_dict()"
      ],
      "metadata": {
        "colab": {
          "base_uri": "https://localhost:8080/"
        },
        "id": "nM07RgjUx8rL",
        "outputId": "48395050-37a4-47bd-c451-2b0af0f0db37"
      },
      "execution_count": null,
      "outputs": [
        {
          "output_type": "execute_result",
          "data": {
            "text/plain": [
              "OrderedDict([('linear_layer.weight', tensor([[0.5305]], device='cuda:0')),\n",
              "             ('linear_layer.bias', tensor([0.2300], device='cuda:0'))])"
            ]
          },
          "metadata": {},
          "execution_count": 161
        }
      ]
    },
    {
      "cell_type": "code",
      "source": [
        "#Evaluating the loaded model\n",
        "\n",
        "loaded_model_1.eval()\n",
        "with torch.inference_mode():\n",
        "  loaded_model_1_preds = loaded_model_1(X_test)\n",
        "\n",
        "y_preds == loaded_model_1_preds"
      ],
      "metadata": {
        "colab": {
          "base_uri": "https://localhost:8080/"
        },
        "id": "ZUd9_b14yCQo",
        "outputId": "ba8ad09c-43ca-452a-c5f2-90820be4cf51"
      },
      "execution_count": null,
      "outputs": [
        {
          "output_type": "execute_result",
          "data": {
            "text/plain": [
              "tensor([[True],\n",
              "        [True],\n",
              "        [True],\n",
              "        [True],\n",
              "        [True],\n",
              "        [True],\n",
              "        [True],\n",
              "        [True],\n",
              "        [True],\n",
              "        [True]], device='cuda:0')"
            ]
          },
          "metadata": {},
          "execution_count": 162
        }
      ]
    },
    {
      "cell_type": "code",
      "source": [],
      "metadata": {
        "id": "Hz4V1wdFySvv"
      },
      "execution_count": null,
      "outputs": []
    }
  ]
}